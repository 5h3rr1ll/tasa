{
 "cells": [
  {
   "cell_type": "code",
   "execution_count": 49,
   "metadata": {},
   "outputs": [],
   "source": [
    "import csv\n",
    "from bs4 import BeautifulSoup\n",
    "from selenium import webdriver\n",
    "from selenium.webdriver.common.keys import Keys\n",
    "from selenium.webdriver.common.by import By\n",
    "from selenium.webdriver.chrome.options import Options\n",
    "from product import Product\n",
    "\n",
    "options = Options()\n",
    "options.add_argument(\"--headless\")\n",
    "options.add_argument(\"--disable-gpu\")"
   ]
  },
  {
   "cell_type": "code",
   "execution_count": null,
   "metadata": {},
   "outputs": [],
   "source": [
    "driver = webdriver.Chrome()\n",
    "driver.get(\"https://www.amazon.de\")\n",
    "assert \"Amazon\" in driver.title\n",
    "elem = driver.find_element(By.NAME, \"field-keywords\")\n",
    "elem.clear()\n",
    "elem.send_keys(\"Höhenverstellbarer Tisch\")\n",
    "elem.send_keys(Keys.RETURN)\n",
    "soup = BeautifulSoup(driver.page_source, 'html.parser')\n",
    "\n",
    "results = soup.find_all('div', {'data-component-type':'s-search-result'})\n",
    "item = results[10]\n",
    "atag = item.h2.a\n",
    "description = atag.text.strip()\n",
    "url = \"https://www.amazon.de\" + atag.get('href')\n",
    "price_parent = item.find('span', 'a-price')\n",
    "price = price_parent.find('span', 'a-offscreen').text\n",
    "driver.close()"
   ]
  },
  {
   "cell_type": "code",
   "execution_count": 50,
   "metadata": {},
   "outputs": [],
   "source": [
    "def search(searchterm: str):\n",
    "    # init webdriver\n",
    "    driver = webdriver.Chrome(options=options)\n",
    "    # open amazon.de return search results\n",
    "    driver.get(f\"https://www.amazon.de/s?k={searchterm.replace(' ', '+')}\")\n",
    "    soup = BeautifulSoup(driver.page_source, 'html.parser')\n",
    "    results = soup.find_all('div', {'data-component-type':'s-search-result'})\n",
    "    print(f\"Found {len(results)} results for {searchterm}\")    \n",
    "    driver.close()\n",
    "    return results\n",
    "\n",
    "def create_product(product) -> Product:\n",
    "    \"\"\"\n",
    "    Takes a bs4.element.Tag and returns a Product object.\n",
    "    \"\"\"\n",
    "    \n",
    "    try:\n",
    "        name = product.img.get('alt')\n",
    "        image = product.find('img', {'class':'s-image'}).get('src')\n",
    "        stars = product.i.text\n",
    "        ratings = product.find('span', {'class':'a-size-base'}).text\n",
    "        price = product.find('span', {'class':'a-price'}).find('span', {'class':'a-offscreen'}).text\n",
    "        url = \"https://www.amazon.de\" + product.h2.a.get('href')\n",
    "        \n",
    "        product = Product(\n",
    "        name,\n",
    "        image, \n",
    "        stars, \n",
    "        ratings,\n",
    "        price,\n",
    "        url\n",
    "        )\n",
    "    except Exception as e:\n",
    "        print(\"Error:\", str(e), product)\n",
    "        pass\n",
    "    \n",
    "    print(\"Created product:\", product)\n",
    "    return product\n",
    "    \n",
    "def filter_four_stars_and_more(results: list) -> list:\n",
    "    \"\"\"\n",
    "    Takes a list of search results and returns only objects with a ratings bigger\n",
    "    then 4 stars.\n",
    "    \"\"\"\n",
    "    pass"
   ]
  },
  {
   "cell_type": "code",
   "execution_count": 51,
   "metadata": {},
   "outputs": [
    {
     "name": "stdout",
     "output_type": "stream",
     "text": [
      "Found 48 results for Küchenlampe\n",
      "Created product: Name: Deckenlampe LED Deckenleuchte 36W, SUNZOS 4000K 4250LM Deckenlampe Led Panel für Lampe Wohnzimmer, Schlafzimmer, Küchenlam..., Image: https://m.media-amazon.com/images/I/51oDrHMPqCS._AC_UL320_.jpg, Stars: 4,5 von 5 Sternen, Ratings: Deckenlampe LED Deckenleuchte 36W, SUNZOS 4000K 4250LM Deckenlampe Led Panel für Lampe Wohnzimmer, Schlafzimmer, Küchenlampe, Flur, Balkon, Esszimmer, Neutralweiß Deckenleuchte Led / 23 x 4 cm, price: 22,99 €, URL: https://www.amazon.de/Deckenleuchte-SUNZOS-Deckenlampe-Schlafzimmer-Neutralwei%C3%9F/dp/B0872LYB9S/ref=sr_1_1?keywords=K%C3%BCchenlampe&qid=1664353635&qu=eyJxc2MiOiI4LjU4IiwicXNhIjoiOC4yMiIsInFzcCI6IjcuNDQifQ%3D%3D&sr=8-1\n",
      "Created product: Name: LED Deckenleuchte 24W 2400LM Deckenlampe LED 3000k/4000k/6000k Einstellbar Küchenlampe, Wohnzimmerlampe Badezimmer Lampe, ..., Image: https://m.media-amazon.com/images/I/61Ak6VYkTdL._AC_UL320_.jpg, Stars: 4,4 von 5 Sternen, Ratings: LED Deckenleuchte 24W 2400LM Deckenlampe LED 3000k/4000k/6000k Einstellbar Küchenlampe, Wohnzimmerlampe Badezimmer Lampe, Deckenlampe für Büro, Dünn 1.5cm, Ø29cm, price: 21,99 €, URL: https://www.amazon.de/Deckenleuchte-Deckenlampe-Einstellbar-K%C3%BCchenlampe-Wohnzimmerlampe/dp/B0B81ZGQGX/ref=sr_1_2?keywords=K%C3%BCchenlampe&qid=1664353635&qu=eyJxc2MiOiI4LjU4IiwicXNhIjoiOC4yMiIsInFzcCI6IjcuNDQifQ%3D%3D&sr=8-2\n",
      "Created product: Name: EGLO LED Deckenleuchte Huerta, Wohnzimmerlampe Modern, 2 flammige Deckenlampe, Küchenlampe aus Metall in Nickel-Matt, Kuns..., Image: https://m.media-amazon.com/images/I/61BaMGOl8BS._AC_UL320_.jpg, Stars: 4,5 von 5 Sternen, Ratings: EGLO LED Deckenleuchte Huerta, Wohnzimmerlampe Modern, 2 flammige Deckenlampe, Küchenlampe aus Metall in Nickel-Matt, Kunststoff in Weiß, LED Schlafzimmerlampe warmweiß , L x B 33 cm, price: 29,99 €, URL: https://www.amazon.de/EGLO-Deckenleuchte-Wohnzimmerlampe-Deckenlampe-Schlafzimmerlampe/dp/B08WRRS3LH/ref=sr_1_3?keywords=K%C3%BCchenlampe&qid=1664353635&qu=eyJxc2MiOiI4LjU4IiwicXNhIjoiOC4yMiIsInFzcCI6IjcuNDQifQ%3D%3D&sr=8-3\n",
      "Created product: Name: Moderne LED Deckenleuchte, 22W Modern Kreative Minimalistische Deckenlampe für Schlafzimmer Flur Wohnzimmer Korridor Alumi..., Image: https://m.media-amazon.com/images/I/41fXEAZKBkS._AC_UL320_.jpg, Stars: 4,4 von 5 Sternen, Ratings: Moderne LED Deckenleuchte, 22W Modern Kreative Minimalistische Deckenlampe für Schlafzimmer Flur Wohnzimmer Korridor Aluminium-Deckenleuchten Küchenlampe Flurlampe, Weißem Licht, price: 34,99 €, URL: https://www.amazon.de/Deckenleuchte-Minimalistische-Deckenlampe-Schlafzimmer-Aluminium-Deckenleuchten/dp/B08NX1XTJF/ref=sr_1_4?keywords=K%C3%BCchenlampe&qid=1664353635&qu=eyJxc2MiOiI4LjU4IiwicXNhIjoiOC4yMiIsInFzcCI6IjcuNDQifQ%3D%3D&sr=8-4\n",
      "Created product: Name: OUILA led deckenleuchte 18W,deckenlampe 3000K 1600LM Rund lampen,Modern Schlicht Warmweiß Ultra Dünn ideal für Lampe Wohnz..., Image: https://m.media-amazon.com/images/I/61zKbsnTBYL._AC_UL320_.jpg, Stars: 4,4 von 5 Sternen, Ratings: OUILA led deckenleuchte 18W,deckenlampe 3000K 1600LM Rund lampen,Modern Schlicht Warmweiß Ultra Dünn ideal für Lampe Wohnzimmer, Schlafzimmer, Küchenlampen, Bad Ø23cm, price: 19,99 €, URL: https://www.amazon.de/OUILA-deckenleuchte-deckenlampe-Schlafzimmer-K%C3%BCchenlampen/dp/B09KPBL156/ref=sr_1_5?keywords=K%C3%BCchenlampe&qid=1664353635&qu=eyJxc2MiOiI4LjU4IiwicXNhIjoiOC4yMiIsInFzcCI6IjcuNDQifQ%3D%3D&sr=8-5\n",
      "Created product: Name: LED Deckenleuchte Dimmbar, NIXIUKOL Led Deckenlampe Panel Flach mit Fernbedienung 24W, Lichtfarbe und Helligkeit einstellb..., Image: https://m.media-amazon.com/images/I/51sj5xvCI3L._AC_UL320_.jpg, Stars: 4,6 von 5 Sternen, Ratings: LED Deckenleuchte Dimmbar, NIXIUKOL Led Deckenlampe Panel Flach mit Fernbedienung 24W, Lichtfarbe und Helligkeit einstellbar, IP54 Wasserfeste Wohnzimmer Schlafzimmer Badzimmer Küchenlampe Eckig 28cm, price: 38,99 €, URL: https://www.amazon.de/NIXIUKOL-Wohnzimmerlampe-Schlafzimmerlampe-Kinderzimmerlampe-Badzimmerlampe/dp/B08MJR8F4K/ref=sr_1_6?keywords=K%C3%BCchenlampe&qid=1664353635&qu=eyJxc2MiOiI4LjU4IiwicXNhIjoiOC4yMiIsInFzcCI6IjcuNDQifQ%3D%3D&sr=8-6\n",
      "Created product: Name: Unicozin LED Deckenleuchte, 3 Flammig LED Deckenstrahler Schwenkbar Chrom, Inkl. 3 x 3.5W GU10 LED Lampen, 380LM, Warmwei..., Image: https://m.media-amazon.com/images/I/61Unp-x36uL._AC_UL320_.jpg, Stars: 4,6 von 5 Sternen, Ratings: Unicozin LED Deckenleuchte, 3 Flammig LED Deckenstrahler Schwenkbar Chrom, Inkl. 3 x 3.5W GU10 LED Lampen, 380LM, Warmweiß, LED Deckenspot LED Deckenlampe, price: 22,99 €, URL: https://www.amazon.de/Unicozin-Deckenleuchte-Deckenstrahler-Schwenkbar-Deckenlampe/dp/B0823HKKQ7/ref=sr_1_7?keywords=K%C3%BCchenlampe&qid=1664353635&qu=eyJxc2MiOiI4LjU4IiwicXNhIjoiOC4yMiIsInFzcCI6IjcuNDQifQ%3D%3D&sr=8-7\n",
      "Created product: Name: LED Deckenleuchte Deckenlampe LED bedee Küchenlampe 4000K 36W LED Quadratische lampe schwarz Moderne Leuchte für Küche Sch..., Image: https://m.media-amazon.com/images/I/51QjHevHN5L._AC_UL320_.jpg, Stars: 4,1 von 5 Sternen, Ratings: LED Deckenleuchte Deckenlampe LED bedee Küchenlampe 4000K 36W LED Quadratische lampe schwarz Moderne Leuchte für Küche Schlafzimmer Wohnzimmer Esszimmer Balkon Flur, price: 29,99 €, URL: https://www.amazon.de/Deckenleuchte-bedee-Quadratische-Schlafzimmer-Energieklasse/dp/B088SQYJVT/ref=sr_1_8?keywords=K%C3%BCchenlampe&qid=1664353635&qu=eyJxc2MiOiI4LjU4IiwicXNhIjoiOC4yMiIsInFzcCI6IjcuNDQifQ%3D%3D&sr=8-8\n",
      "Created product: Name: B.K.Licht – schwenkbare Deckenlampe – 605x105 mm, Matt-Nickel, drehbare Spotlampe, warmweiße Lichtfarbe, 4 flammig, inkl. ..., Image: https://m.media-amazon.com/images/I/616eK66ooaL._AC_UL320_.jpg, Stars: 4,6 von 5 Sternen, Ratings: B.K.Licht – schwenkbare Deckenlampe – 605x105 mm, Matt-Nickel, drehbare Spotlampe, warmweiße Lichtfarbe, 4 flammig, inkl. Leuchtmittel, price: 32,99 €, URL: https://www.amazon.de/Deckenleuchte-Leuchtmittel-Deckenlampe-Wohnzimmerlampe-Deckenstrahler/dp/B01LX1K6X7/ref=sr_1_9?keywords=K%C3%BCchenlampe&qid=1664353635&qu=eyJxc2MiOiI4LjU4IiwicXNhIjoiOC4yMiIsInFzcCI6IjcuNDQifQ%3D%3D&sr=8-9\n",
      "Created product: Name: LED Deckenleuchte 24w, AVANLO 3000k Deckenlampe LED Panel, Ø28cm Küchenlampe 2400lm, Wohnzimmerlampe Badezimmer Lampe, Dec..., Image: https://m.media-amazon.com/images/I/61csCs95Y9L._AC_UL320_.jpg, Stars: 4,3 von 5 Sternen, Ratings: LED Deckenleuchte 24w, AVANLO 3000k Deckenlampe LED Panel, Ø28cm Küchenlampe 2400lm, Wohnzimmerlampe Badezimmer Lampe, Deckenleuchte für Büro, Dünn, price: 18,59 €, URL: https://www.amazon.de/Deckenleuchte-AVANLO-Deckenlampe-K%C3%BCchenlampe-Wohnzimmerlampe/dp/B08P6WXGHC/ref=sr_1_10?keywords=K%C3%BCchenlampe&qid=1664353635&qu=eyJxc2MiOiI4LjU4IiwicXNhIjoiOC4yMiIsInFzcCI6IjcuNDQifQ%3D%3D&sr=8-10\n",
      "Created product: Name: B.K.Licht - LED Deckenleuchte, Spotbalken, 2-flammig, geschwungen, schwarze Lampe Wohnzimmer, Deckenlampe Schlafzimmer, Image: https://m.media-amazon.com/images/I/61jwEeCPA2L._AC_UL320_.jpg, Stars: 4,4 von 5 Sternen, Ratings: B.K.Licht - LED Deckenleuchte, Spotbalken, 2-flammig, geschwungen, schwarze Lampe Wohnzimmer, Deckenlampe Schlafzimmer, price: 32,99 €, URL: https://www.amazon.de/B-K-Licht-2-flammige-geschwungene-Deckenleuchte-schwenkbar/dp/B08W58Y99D/ref=sr_1_11?keywords=K%C3%BCchenlampe&qid=1664353635&qu=eyJxc2MiOiI4LjU4IiwicXNhIjoiOC4yMiIsInFzcCI6IjcuNDQifQ%3D%3D&sr=8-11\n",
      "Created product: Name: PADMA Led Deckenlampe Küche Modern Deckenleuchte Wohnzimmer Warmweiß 4 x 5W schwenkbar 3000K 1600 Lumen für Schlafzimmer K..., Image: https://m.media-amazon.com/images/I/51-5vEA8M9L._AC_UL320_.jpg, Stars: 4,6 von 5 Sternen, Ratings: PADMA Led Deckenlampe Küche Modern Deckenleuchte Wohnzimmer Warmweiß 4 x 5W schwenkbar 3000K 1600 Lumen für Schlafzimmer Kinderzimmer Büro Flur Esszimmer, price: 55,99 €, URL: https://www.amazon.de/PADMA-Deckenleuchte-Deckenlampe-Deckenspots-Schlafzimmer/dp/B07TXPBP2D/ref=sr_1_12?keywords=K%C3%BCchenlampe&qid=1664353635&qu=eyJxc2MiOiI4LjU4IiwicXNhIjoiOC4yMiIsInFzcCI6IjcuNDQifQ%3D%3D&sr=8-12\n",
      "Created product: Name: tomons Pendelleuchte Weiß LED Deckenlampe Skandinavisch Moderner Simpler Stil für Wohnzimmer Esszimmer Restaurant, Image: https://m.media-amazon.com/images/I/514WEOeZQAL._AC_UL320_.jpg, Stars: 4,6 von 5 Sternen, Ratings: tomons Pendelleuchte Weiß LED Deckenlampe Skandinavisch Moderner Simpler Stil für Wohnzimmer Esszimmer Restaurant, price: 59,99 €, URL: https://www.amazon.de/tomons-Pendelleuchte-Deckenlampe-Skandinavisch-Wohnzimmer/dp/B07MDF7KFK/ref=sr_1_13?keywords=K%C3%BCchenlampe&qid=1664353635&qu=eyJxc2MiOiI4LjU4IiwicXNhIjoiOC4yMiIsInFzcCI6IjcuNDQifQ%3D%3D&sr=8-13\n",
      "Created product: Name: LED Deckenleuchte 30W, 3000K-6000K 3200LM Deckenlampe mit Fernbedienung, LED Deckenleuchte Panel mit RGB Farbwechsel, für ..., Image: https://m.media-amazon.com/images/I/71FGm2eF2eL._AC_UL320_.jpg, Stars: 4,1 von 5 Sternen, Ratings: LED Deckenleuchte 30W, 3000K-6000K 3200LM Deckenlampe mit Fernbedienung, LED Deckenleuchte Panel mit RGB Farbwechsel, für Wohnzimmer, Schlafzimmer, Küchenlampe, Kinderzimmer Bad Flur, price: 29,99 €, URL: https://www.amazon.de/Deckenleuchte-3000K-6000K-Fernbedienung-Schlafzimmer-Kinderzimmer/dp/B09P7ZS3V6/ref=sr_1_14?keywords=K%C3%BCchenlampe&qid=1664353635&qu=eyJxc2MiOiI4LjU4IiwicXNhIjoiOC4yMiIsInFzcCI6IjcuNDQifQ%3D%3D&sr=8-14\n",
      "Created product: Name: SOAIY LED dimmbare Unterbauleuchte 40CM Küche Lampe wiederaufladbar Schrankbeleuchtung mit berührungslosem Sensor 3 Lichtw..., Image: https://m.media-amazon.com/images/I/71OZv3MrJfL._AC_UL320_.jpg, Stars: 4,1 von 5 Sternen, Ratings: SOAIY LED dimmbare Unterbauleuchte 40CM Küche Lampe wiederaufladbar Schrankbeleuchtung mit berührungslosem Sensor 3 Lichtwärme 3000K-6000K magnetische Lichtleiste für Küchenschrank Kleiderschrank Bad, price: 25,95 €, URL: https://www.amazon.de/SOAIY-Unterbauleuchte-wiederaufladbar-Schrankbeleuchtung-ber%C3%BChrungslosem/dp/B096M5CRHH/ref=sr_1_15?keywords=K%C3%BCchenlampe&qid=1664353635&qu=eyJxc2MiOiI4LjU4IiwicXNhIjoiOC4yMiIsInFzcCI6IjcuNDQifQ%3D%3D&sr=8-15\n",
      "Created product: Name: MLOQI LED Deckenleuchte Dimmbar mit Fernbedienung(2700K-6500K),24W,2200LM,IP44,Deckenleucht Flach, für Wohnzimmer, Schlafz..., Image: https://m.media-amazon.com/images/I/61a0QVRbKyL._AC_UL320_.jpg, Stars: 5,0 von 5 Sternen, Ratings: MLOQI LED Deckenleuchte Dimmbar mit Fernbedienung(2700K-6500K),24W,2200LM,IP44,Deckenleucht Flach, für Wohnzimmer, Schlafzimmer, Küchenlampe, Flur, Balkon, Esszimmer, Quadratisch Deckenlampe, price: 33,99 €, URL: https://www.amazon.de/MLOQI-Deckenleuchte-Fernbedienung-Deckenleucht-Schlafzimmer/dp/B0B49XHG2D/ref=sr_1_16?keywords=K%C3%BCchenlampe&qid=1664353635&qu=eyJxc2MiOiI4LjU4IiwicXNhIjoiOC4yMiIsInFzcCI6IjcuNDQifQ%3D%3D&sr=8-16\n",
      "Created product: Name: Led Unterbauleuchte Schwenkbar Küchenlampe Unterbau Schrankbeleuchtung mit Schalter Schrauben Dübel Verbindungskabel Warmw..., Image: https://m.media-amazon.com/images/I/51xpPAe17LL._AC_UL320_.jpg, Stars: 4,5 von 5 Sternen, Ratings: Led Unterbauleuchte Schwenkbar Küchenlampe Unterbau Schrankbeleuchtung mit Schalter Schrauben Dübel Verbindungskabel Warmweiß 3 Farbton Neutralweiß Kaltweiß 350 Lumen 33 cm, price: 19,99 €, URL: https://www.amazon.de/Unterbauleuchte-K%C3%BCchenlampe-Schrankbeleuchtung-Verbindungskabel-Neutralwei%C3%9F/dp/B07H7GPCNN/ref=sr_1_17?keywords=K%C3%BCchenlampe&qid=1664353635&qu=eyJxc2MiOiI4LjU4IiwicXNhIjoiOC4yMiIsInFzcCI6IjcuNDQifQ%3D%3D&sr=8-17\n",
      "Created product: Name: LED Deckenleuchte 24W , Ouyulong 5000K 2600LM LED Deckenleuchte Flach für Wohnzimmer, Schlafzimmer, Küchenlampe, Flur, Bal..., Image: https://m.media-amazon.com/images/I/51Nc8aJH1fL._AC_UL320_.jpg, Stars: 4,4 von 5 Sternen, Ratings: LED Deckenleuchte 24W , Ouyulong 5000K 2600LM LED Deckenleuchte Flach für Wohnzimmer, Schlafzimmer, Küchenlampe, Flur, Balkon, Esszimmer, Neutrales, Quadrat IP44 Wasserdicht Deckenlampe Led 23cm, price: 19,99 €, URL: https://www.amazon.de/Deckenleuchte-Ouyulong-Schlafzimmer-K%C3%BCchenlampe-Wasserdicht/dp/B0B5D8SK52/ref=sr_1_18?keywords=K%C3%BCchenlampe&qid=1664353635&qu=eyJxc2MiOiI4LjU4IiwicXNhIjoiOC4yMiIsInFzcCI6IjcuNDQifQ%3D%3D&sr=8-18\n",
      "Created product: Name: BRILONER Leuchten - LED Deckenleuchte, Deckenlampe dimmbar, inkl. Fernbedienung, inkl. Farbtemperatursteuerung, inkl. Nach..., Image: https://m.media-amazon.com/images/I/61POEHjykXL._AC_UL320_.jpg, Stars: 4,4 von 5 Sternen, Ratings: BRILONER Leuchten - LED Deckenleuchte, Deckenlampe dimmbar, inkl. Fernbedienung, inkl. Farbtemperatursteuerung, inkl. Nachtlichtfunktion und Timer, 40 W, Chrom-Alu, 500x388x80mm (LxBxH), 3049-018, price: 93,23 €, URL: https://www.amazon.de/BRILONER-Leuchten-Deckenleuchte-Farbtemperatursteuerung-Nachtlichtfunktion/dp/B09HSFPR4B/ref=sr_1_19?keywords=K%C3%BCchenlampe&qid=1664353635&qu=eyJxc2MiOiI4LjU4IiwicXNhIjoiOC4yMiIsInFzcCI6IjcuNDQifQ%3D%3D&sr=8-19\n",
      "Created product: Name: EASY EAGLE Deckenleuchte LED, 36W 6500K 3240LM Modern Quadrat Deckenlampe Led 23cm für Küche, Flur, Schlafzimmer, Keller, Image: https://m.media-amazon.com/images/I/71DKD8XSqHL._AC_UL320_.jpg, Stars: 4,3 von 5 Sternen, Ratings: EASY EAGLE Deckenleuchte LED, 36W 6500K 3240LM Modern Quadrat Deckenlampe Led 23cm für Küche, Flur, Schlafzimmer, Keller, price: 21,99 €, URL: https://www.amazon.de/EASY-EAGLE-Deckenleuchte-Deckenlampe-Schlafzimmer/dp/B09S6F6YP7/ref=sr_1_20?keywords=K%C3%BCchenlampe&qid=1664353635&qu=eyJxc2MiOiI4LjU4IiwicXNhIjoiOC4yMiIsInFzcCI6IjcuNDQifQ%3D%3D&sr=8-20\n",
      "Created product: Name: tomons Pendelleuchte Dimmbar mit Fernbedienung, Hängeleuchte Skandinavisch Modern Stil, Weiß, Deckenleuchte mit Glühbirne,..., Image: https://m.media-amazon.com/images/I/5150W0aSWpL._AC_UL320_.jpg, Stars: 4,6 von 5 Sternen, Ratings: tomons Pendelleuchte Dimmbar mit Fernbedienung, Hängeleuchte Skandinavisch Modern Stil, Weiß, Deckenleuchte mit Glühbirne, Farbtemperatur und die Helligkeit Stufenlos Einstellen, für Esszimmer, price: 59,99 €, URL: https://www.amazon.de/tomons-Pendelleuchte-Fernbedienung-Skandinavisch-Farbtemperatur/dp/B09JSM1H3K/ref=sr_1_21?keywords=K%C3%BCchenlampe&qid=1664353635&qu=eyJxc2MiOiI4LjU4IiwicXNhIjoiOC4yMiIsInFzcCI6IjcuNDQifQ%3D%3D&sr=8-21\n",
      "Created product: Name: PADMA LED Deckenstrahler Deckenlampe schwenkbare Deckenleuchte Metall Chrom Spotbalken für Wohnzimmer,Schlafzimmer, Image: https://m.media-amazon.com/images/I/61yPPtiijgL._AC_UL320_.jpg, Stars: 4,7 von 5 Sternen, Ratings: PADMA LED Deckenstrahler Deckenlampe schwenkbare Deckenleuchte Metall Chrom Spotbalken für Wohnzimmer,Schlafzimmer, price: 39,99 €, URL: https://www.amazon.de/PADMA-Deckenstrahler-Deckenlampe-Deckenleuchte-Schlafzimmer/dp/B087QZ9HGW/ref=sr_1_22?keywords=K%C3%BCchenlampe&qid=1664353635&qu=eyJxc2MiOiI4LjU4IiwicXNhIjoiOC4yMiIsInFzcCI6IjcuNDQifQ%3D%3D&sr=8-22\n",
      "Created product: Name: Design Decken Hänge Leuchte Holz Balken Pendel Spot Ess Zimmer Retro Gitter Lampe Globo 15326-4N, Image: https://m.media-amazon.com/images/I/61Vig0uUzjL._AC_UL320_.jpg, Stars: 4,7 von 5 Sternen, Ratings: Design Decken Hänge Leuchte Holz Balken Pendel Spot Ess Zimmer Retro Gitter Lampe Globo 15326-4N, price: 64,50 €, URL: https://www.amazon.de/Design-Decken-Leuchte-Globo-15326-4N/dp/B07WNNWZ13/ref=sr_1_23?keywords=K%C3%BCchenlampe&qid=1664353635&qu=eyJxc2MiOiI4LjU4IiwicXNhIjoiOC4yMiIsInFzcCI6IjcuNDQifQ%3D%3D&sr=8-23\n",
      "Created product: Name: Bojim LED Deckenleuchte Schwenkbar, LED Deckenstrahler 3 flammig LED Deckenlampe Inkl. 3 x 6W GU10 Spots Warmweiß 2800K 60..., Image: https://m.media-amazon.com/images/I/51FL+3jH4OL._AC_UL320_.jpg, Stars: 4,4 von 5 Sternen, Ratings: Bojim LED Deckenleuchte Schwenkbar, LED Deckenstrahler 3 flammig LED Deckenlampe Inkl. 3 x 6W GU10 Spots Warmweiß 2800K 600LM, Moderne Küchenlampe IP20 Spotleuchte Metall Matt nickel Design, price: 29,99 €, URL: https://www.amazon.de/Bojim-Deckenleuchte-Deckenstrahler-Deckenlampe-K%C3%BCchenlampe/dp/B07JFPM4KB/ref=sr_1_24?keywords=K%C3%BCchenlampe&qid=1664353635&qu=eyJxc2MiOiI4LjU4IiwicXNhIjoiOC4yMiIsInFzcCI6IjcuNDQifQ%3D%3D&sr=8-24\n",
      "Created product: Name: Deckenleuchte Led 36W, Epicflare 4000K Deckenlampe Led, Quadratisch küchenlampe Decke, 4350LM Neutral weiß Led Deckenleuch..., Image: https://m.media-amazon.com/images/I/51dGdY+rwUL._AC_UL320_.jpg, Stars: 4,3 von 5 Sternen, Ratings: Deckenleuchte Led 36W, Epicflare 4000K Deckenlampe Led, Quadratisch küchenlampe Decke, 4350LM Neutral weiß Led Deckenleuchte, Lampe für Wohnzimmer Schlafzimmer Flur Küche Esszimmer büro Balkon, Ø23cm, price: 20,99 €, URL: https://www.amazon.de/Deckenleuchte-Epicflare-Deckenlampe-Quadratisch-Schlafzimmer/dp/B09HYY2VDN/ref=sr_1_25?keywords=K%C3%BCchenlampe&qid=1664353635&qu=eyJxc2MiOiI4LjU4IiwicXNhIjoiOC4yMiIsInFzcCI6IjcuNDQifQ%3D%3D&sr=8-25\n",
      "Created product: Name: Smartwares Hängelampe Industrial Design, Schwarz-Bronze, E27-Fassung, 32 cm Durchmesser, Aluminium, 60 Watt, Image: https://m.media-amazon.com/images/I/71T1ZifsB-L._AC_UL320_.jpg, Stars: 4,4 von 5 Sternen, Ratings: Smartwares Hängelampe Industrial Design, Schwarz-Bronze, E27-Fassung, 32 cm Durchmesser, Aluminium, 60 Watt, price: 22,99 €, URL: https://www.amazon.de/Smartwares-IP-003-B-Industrielampe-Schwarz-Bronze-E27-Fassung/dp/B01LQ18D2S/ref=sr_1_26?keywords=K%C3%BCchenlampe&qid=1664353635&qu=eyJxc2MiOiI4LjU4IiwicXNhIjoiOC4yMiIsInFzcCI6IjcuNDQifQ%3D%3D&sr=8-26\n",
      "Created product: Name: Eofiti LED Deckenlampe Strahler 5 Flammig Modern Spots Deckenleuchte Schwarz Schwenkbar Inkl. 5x 3W G9 360LM Deckenstrahle..., Image: https://m.media-amazon.com/images/I/61Bh6hvFOnL._AC_UL320_.jpg, Stars: 4,6 von 5 Sternen, Ratings: Eofiti LED Deckenlampe Strahler 5 Flammig Modern Spots Deckenleuchte Schwarz Schwenkbar Inkl. 5x 3W G9 360LM Deckenstrahler 3000K Warmweiß Deckenspot Küchenlampe für Balken Garderobe Schlafzimmer, price: 79,99 €, URL: https://www.amazon.de/Eofiti-Deckenlampe-Deckenleuchte-Deckenstrahler-Schlafzimmer/dp/B09SPX5XCQ/ref=sr_1_27?keywords=K%C3%BCchenlampe&qid=1664353635&qu=eyJxc2MiOiI4LjU4IiwicXNhIjoiOC4yMiIsInFzcCI6IjcuNDQifQ%3D%3D&sr=8-27\n",
      "Created product: Name: Deckenlampe LED Deckenleuchte Flach 36W 30cm, SUNZOS 4500K 4100LM Deckenlampe Led Panel für Lampe Wohnzimmer, Schlafzimme..., Image: https://m.media-amazon.com/images/I/51QFK+awY6L._AC_UL320_.jpg, Stars: 4,3 von 5 Sternen, Ratings: Deckenlampe LED Deckenleuchte Flach 36W 30cm, SUNZOS 4500K 4100LM Deckenlampe Led Panel für Lampe Wohnzimmer, Schlafzimmer, Küchenlampe, Flur, Esszimmer, Neutralweiß Led Lampen Deckenlampen, price: 24,99 €, URL: https://www.amazon.de/Deckenleuchte-SUNZOS-Deckenlampe-Schlafzimmer-Deckenlampen/dp/B09JNLJ9R6/ref=sr_1_28?keywords=K%C3%BCchenlampe&qid=1664353635&qu=eyJxc2MiOiI4LjU4IiwicXNhIjoiOC4yMiIsInFzcCI6IjcuNDQifQ%3D%3D&sr=8-28\n",
      "Created product: Name: Led Deckenleuchte Flach 25W, JONMONSM Led Badezimmer Lampe IP54 Wasserfest LED Deckenlampe Ø28cm 2000LM 6500k, Rund Led La..., Image: https://m.media-amazon.com/images/I/61augpR2d8L._AC_UL320_.jpg, Stars: 4,3 von 5 Sternen, Ratings: Led Deckenleuchte Flach 25W, JONMONSM Led Badezimmer Lampe IP54 Wasserfest LED Deckenlampe Ø28cm 2000LM 6500k, Rund Led Lamp Deckenlampen für Badezimmer, Schlafzimmer, Küche, Flur, Weiß, price: 18,69 €, URL: https://www.amazon.de/Deckenleuchte-JONMONSM-Badezimmer-Deckenlampe-Schlafzimmer/dp/B09HXDPCWH/ref=sr_1_29?keywords=K%C3%BCchenlampe&qid=1664353635&qu=eyJxc2MiOiI4LjU4IiwicXNhIjoiOC4yMiIsInFzcCI6IjcuNDQifQ%3D%3D&sr=8-29\n",
      "Created product: Name: Dimmbar LED Deckenleuchte Panel 100x25 cm mit Fernbedienung, 28W Flach Deckenlampe mit Stark Leuchtkraft Licht, 2700K - 65..., Image: https://m.media-amazon.com/images/I/610tnQN08SL._AC_UL320_.jpg, Stars: 4,5 von 5 Sternen, Ratings: Dimmbar LED Deckenleuchte Panel 100x25 cm mit Fernbedienung, 28W Flach Deckenlampe mit Stark Leuchtkraft Licht, 2700K - 6500K Warmweiß Kaltweiß Tageslicht Lampe für Büro Werkstatt Wohnzimmer Küche, price: 69,99 €, URL: https://www.amazon.de/Dimmbar-Deckenleuchte-Fernbedienung-Deckenpanel-Leuchtkraft/dp/B08GFMMWMS/ref=sr_1_30?keywords=K%C3%BCchenlampe&qid=1664353635&qu=eyJxc2MiOiI4LjU4IiwicXNhIjoiOC4yMiIsInFzcCI6IjcuNDQifQ%3D%3D&sr=8-30\n",
      "Created product: Name: MGEELED Deckenleuchte 30W, Deckenlampe Led Panel IP56 Feuchtraumleuchte Badezimmer Lampe, 4000K 3200LM Rund Badlampe Küche..., Image: https://m.media-amazon.com/images/I/517---SWZ5L._AC_UL320_.jpg, Stars: 4,5 von 5 Sternen, Ratings: MGEELED Deckenleuchte 30W, Deckenlampe Led Panel IP56 Feuchtraumleuchte Badezimmer Lampe, 4000K 3200LM Rund Badlampe Küchenlampe kellerlampe Decke für Flur Wohnzimmer Balkon, Neutralweiß, Ø25cm, price: 19,99 €, URL: https://www.amazon.de/MGEELED-Deckenleuchte-Deckenlampe-Feuchtraumleuchte-K%C3%BCchenlampe/dp/B0B7DD4MF9/ref=sr_1_31?keywords=K%C3%BCchenlampe&qid=1664353635&qu=eyJxc2MiOiI4LjU4IiwicXNhIjoiOC4yMiIsInFzcCI6IjcuNDQifQ%3D%3D&sr=8-31\n",
      "Created product: Name: Koicaxy LED Deckenleuchte Flach 36W, 6500K 4320LM Deckenlampe Led Lampen Deckenlampen, Ø 30CM Neutralweiß Deckenbeleuchtun..., Image: https://m.media-amazon.com/images/I/511DCodbKgL._AC_UL320_.jpg, Stars: 4,2 von 5 Sternen, Ratings: Koicaxy LED Deckenleuchte Flach 36W, 6500K 4320LM Deckenlampe Led Lampen Deckenlampen, Ø 30CM Neutralweiß Deckenbeleuchtung für Wohnzimmer, Schlafzimmer, Küchenlampe, Flur, Balkon, Esszimmer, price: 27,99 €, URL: https://www.amazon.de/Deckenleuchte-Deckenlampe-Deckenlampen-Deckenbeleuchtung-Schlafzimmer/dp/B09NPN1ZSG/ref=sr_1_32?keywords=K%C3%BCchenlampe&qid=1664353635&qu=eyJxc2MiOiI4LjU4IiwicXNhIjoiOC4yMiIsInFzcCI6IjcuNDQifQ%3D%3D&sr=8-32\n",
      "Created product: Name: Briloner Leuchten LED Panel, Deckenleuchte, Deckenlampe mit Hintergrundbeleuchtungseffekt, 12 Watt, 1.400 Lumen, 4.000 Kel..., Image: https://m.media-amazon.com/images/I/71wavTyibQL._AC_UL320_.jpg, Stars: 4,5 von 5 Sternen, Ratings: Briloner Leuchten LED Panel, Deckenleuchte, Deckenlampe mit Hintergrundbeleuchtungseffekt, 12 Watt, 1.400 Lumen, 4.000 Kelvin, Weiß, Rund, Ø 19cm, price: 19,95 €, URL: https://www.amazon.de/Briloner-Leuchten-Deckenleuchte-Deckenlampe-Hintergrundbeleuchtungseffekt/dp/B0845YNKRF/ref=sr_1_33?keywords=K%C3%BCchenlampe&qid=1664353635&qu=eyJxc2MiOiI4LjU4IiwicXNhIjoiOC4yMiIsInFzcCI6IjcuNDQifQ%3D%3D&sr=8-33\n",
      "Created product: Name: Defurhome LED Deckenleuchte Drehbar, 6 Flammig LED Strahler Deckenlampe Spot,Modern Deckenstrahler (Mattes Nickel), inkl. ..., Image: https://m.media-amazon.com/images/I/61+NLxQWvwL._AC_UL320_.jpg, Stars: 4,5 von 5 Sternen, Ratings: Defurhome LED Deckenleuchte Drehbar, 6 Flammig LED Strahler Deckenlampe Spot,Modern Deckenstrahler (Mattes Nickel), inkl. 6 x 3.5 W GU10 LED Lampen (380LM, warmweiß), price: 41,99 €, URL: https://www.amazon.de/Defurhome-Deckenleuchte-Strahler-Deckenlampe-Deckenstrahler/dp/B07RQNL47C/ref=sr_1_34?keywords=K%C3%BCchenlampe&qid=1664353635&qu=eyJxc2MiOiI4LjU4IiwicXNhIjoiOC4yMiIsInFzcCI6IjcuNDQifQ%3D%3D&sr=8-34\n",
      "Created product: Name: LED Deckenleuchte 24W ,Ouyulong 5000K 2600LM Deckenlampe Led für Lampe Wohnzimmer, Schlafzimmer, Küchenlampe, Balkon, Essz..., Image: https://m.media-amazon.com/images/I/51C1mPfprRL._AC_UL320_.jpg, Stars: 4,4 von 5 Sternen, Ratings: LED Deckenleuchte 24W ,Ouyulong 5000K 2600LM Deckenlampe Led für Lampe Wohnzimmer, Schlafzimmer, Küchenlampe, Balkon, Esszimmer, Neutrales,Runden IP44 Wasserdicht Deckenleuchte Led 23cm, price: 19,99 €, URL: https://www.amazon.de/Deckenleuchte-Ouyulong-Deckenlampe-Schlafzimmer-K%C3%BCchenlampe/dp/B0B4WNYVZB/ref=sr_1_35?keywords=K%C3%BCchenlampe&qid=1664353635&qu=eyJxc2MiOiI4LjU4IiwicXNhIjoiOC4yMiIsInFzcCI6IjcuNDQifQ%3D%3D&sr=8-35\n",
      "Created product: Name: LE Deckenlampe 15W, LED Deckenleuchte IP54 Wasserfest, 3000K 1500LM Badezimmer Lampe, Rund Badlampe Decke, ideal für Bad S..., Image: https://m.media-amazon.com/images/I/418trUV-A2L._AC_UL320_.jpg, Stars: 4,5 von 5 Sternen, Ratings: LE Deckenlampe 15W, LED Deckenleuchte IP54 Wasserfest, 3000K 1500LM Badezimmer Lampe, Rund Badlampe Decke, ideal für Bad Schlafzimmer Flur Küche Wohnzimmer Balkon, Kaltweiß, Ø22cm, price: 20,99 €, URL: https://www.amazon.de/Deckenleuchte-Gl%C3%BChbirne-Deckenlampe-Badezimmer-Wohnzimmer/dp/B06XVQ5W2H/ref=sr_1_36?keywords=K%C3%BCchenlampe&qid=1664353635&qu=eyJxc2MiOiI4LjU4IiwicXNhIjoiOC4yMiIsInFzcCI6IjcuNDQifQ%3D%3D&sr=8-36\n",
      "Created product: Name: Reality Leuchten Tommy R30334079 Pendelleuchte, Metall Schwarz Matt, Stoffschirm, Schwarz, Image: https://m.media-amazon.com/images/I/511XXQl1wKL._AC_UL320_.jpg, Stars: 4,5 von 5 Sternen, Ratings: Reality Leuchten Tommy R30334079 Pendelleuchte, Metall Schwarz Matt, Stoffschirm, Schwarz, price: 44,99 €, URL: https://www.amazon.de/Reality-Leuchten-R30334079-Pendelleuchte-Stoffschirm/dp/B07FNWQV2N/ref=sr_1_37?keywords=K%C3%BCchenlampe&qid=1664353635&qu=eyJxc2MiOiI4LjU4IiwicXNhIjoiOC4yMiIsInFzcCI6IjcuNDQifQ%3D%3D&sr=8-37\n",
      "Created product: Name: CBJKTX LED Deckenleuchte Deckenlampe Tageslicht - 90CM Tageslichtlampe Weiß Küchenlampe: 4000K 3240LM LED Lampe Innen für ..., Image: https://m.media-amazon.com/images/I/61kbEU6lN8L._AC_UL320_.jpg, Stars: 4,4 von 5 Sternen, Ratings: CBJKTX LED Deckenleuchte Deckenlampe Tageslicht - 90CM Tageslichtlampe Weiß Küchenlampe: 4000K 3240LM LED Lampe Innen für Küche Wohnzimmer Schlafzimmer Esszimmer Balkon Flur Garage Keller - 36W, price: 32,99 €, URL: https://www.amazon.de/CBJKTX-Deckenleuchte-Deckenlampe-Tageslicht-Tageslichtlampe/dp/B0978YT2W7/ref=sr_1_38?keywords=K%C3%BCchenlampe&qid=1664353635&qu=eyJxc2MiOiI4LjU4IiwicXNhIjoiOC4yMiIsInFzcCI6IjcuNDQifQ%3D%3D&sr=8-38\n",
      "Created product: Name: LED Deckenleuchte Flach 36W 4800LM Deckenleuchte Panel 3000K/4500K/6000K 3 Farbtemperatur einstellbar 30cm x 2.4cm Deckenl..., Image: https://m.media-amazon.com/images/I/61fGO-f32EL._AC_UL320_.jpg, Stars: 4,1 von 5 Sternen, Ratings: LED Deckenleuchte Flach 36W 4800LM Deckenleuchte Panel 3000K/4500K/6000K 3 Farbtemperatur einstellbar 30cm x 2.4cm Deckenlampe quadratisch Flach für Badezimmer,Flur,Schlafzimmer,Keller,Balkon,Küche, price: 29,99 €, URL: https://www.amazon.de/Deckenleuchte-Farbtemperatur-einstellbar-Deckenlampe-Schlafzimmer/dp/B0B2P3S2VM/ref=sr_1_39?keywords=K%C3%BCchenlampe&qid=1664353635&qu=eyJxc2MiOiI4LjU4IiwicXNhIjoiOC4yMiIsInFzcCI6IjcuNDQifQ%3D%3D&sr=8-39\n",
      "Created product: Name: LED Deckenleuchte RGB Dimmbar 24W, Matane Deckenlampe mit Fernbedienung, Lampen Farbwechsel 3000K-6500K für Wohnzimmer Sch..., Image: https://m.media-amazon.com/images/I/61y1OWESpCL._AC_UL320_.jpg, Stars: 4,5 von 5 Sternen, Ratings: LED Deckenleuchte RGB Dimmbar 24W, Matane Deckenlampe mit Fernbedienung, Lampen Farbwechsel 3000K-6500K für Wohnzimmer Schlafzimmer Kinderzimmer Küche Badezimmer Rund 28cm, price: 43,99 €, URL: https://www.amazon.de/Deckenleuchte-Matane-Fernbedienung-Schlafzimmer-Kinderzimmer/dp/B0B4W17QBC/ref=sr_1_40?keywords=K%C3%BCchenlampe&qid=1664353635&qu=eyJxc2MiOiI4LjU4IiwicXNhIjoiOC4yMiIsInFzcCI6IjcuNDQifQ%3D%3D&sr=8-40\n",
      "Created product: Name: B.K.Licht - LED Deckenlampe, Deckenleuchte - Weiß, 12W, Ø278 mm, 65mm hoch, helle Lampe mit neutralweißem Licht, Image: https://m.media-amazon.com/images/I/51-gFyqD0hL._AC_UL320_.jpg, Stars: 4,4 von 5 Sternen, Ratings: B.K.Licht - LED Deckenlampe, Deckenleuchte - Weiß, 12W, Ø278 mm, 65mm hoch, helle Lampe mit neutralweißem Licht, price: 24,99 €, URL: https://www.amazon.de/Deckenlampe-Platine-Deckenleuchte-Wohnzimmer-neutralweiss/dp/B07N9447Z4/ref=sr_1_41?keywords=K%C3%BCchenlampe&qid=1664353635&qu=eyJxc2MiOiI4LjU4IiwicXNhIjoiOC4yMiIsInFzcCI6IjcuNDQifQ%3D%3D&sr=8-41\n",
      "Created product: Name: 24W LED Deckenleuchte Dimmbar mit Fernbedienung, 29.5cm 4000K/RGB Farbwechsel Deckenlampe LED Panel, IP44 Quadrat Flach La..., Image: https://m.media-amazon.com/images/I/61oxwsUullL._AC_UL320_.jpg, Stars: 4,4 von 5 Sternen, Ratings: 24W LED Deckenleuchte Dimmbar mit Fernbedienung, 29.5cm 4000K/RGB Farbwechsel Deckenlampe LED Panel, IP44 Quadrat Flach Lampe Schlafzimmer für Kinderzimmer Wohnzimmer Badezimmer Neutralweiß 2350LM, price: 39,99 €, URL: https://www.amazon.de/Deckenleuchte-Fernbedienung-Farbwechsel-Schlafzimmer-Kinderzimmer/dp/B0B4P2RL2G/ref=sr_1_42?keywords=K%C3%BCchenlampe&qid=1664353635&qu=eyJxc2MiOiI4LjU4IiwicXNhIjoiOC4yMiIsInFzcCI6IjcuNDQifQ%3D%3D&sr=8-42\n",
      "Created product: Name: EGLO Pendelleuchte Lord 2, 1 flammige Hängelampe höhenverstellbar, Pendellampe klassisch, Wohnzimmerlampe hängend aus Meta..., Image: https://m.media-amazon.com/images/I/71ZMB-QbWgL._AC_UL320_.jpg, Stars: 4,5 von 5 Sternen, Ratings: EGLO Pendelleuchte Lord 2, 1 flammige Hängelampe höhenverstellbar, Pendellampe klassisch, Wohnzimmerlampe hängend aus Metall in Nickel-Matt und Alabaster-Glas in Weiß, E27 Fassung, price: 39,90 €, URL: https://www.amazon.de/EGLO-87008-H%C3%B6henverstellbare-Pendelleuchte-Metall/dp/B0059F4CWI/ref=sr_1_43?keywords=K%C3%BCchenlampe&qid=1664353635&qu=eyJxc2MiOiI4LjU4IiwicXNhIjoiOC4yMiIsInFzcCI6IjcuNDQifQ%3D%3D&sr=8-43\n",
      "Created product: Name: EGLO Pendellampe Sabinar, 1 flammige moderne Pendelleuchte, Hängelampe aus Stahl und Holz, Farbe: Weiß, braun, Fassung: E2..., Image: https://m.media-amazon.com/images/I/617qbVpB-KL._AC_UL320_.jpg, Stars: 4,6 von 5 Sternen, Ratings: EGLO Pendellampe Sabinar, 1 flammige moderne Pendelleuchte, Hängelampe aus Stahl und Holz, Farbe: Weiß, braun, Fassung: E27, Ø: 28 cm, price: 40,61 €, URL: https://www.amazon.de/H%C3%A4ngeleuchte-SABINAR-28cm-dimmbar-braun/dp/B0767N8ZZ5/ref=sr_1_44?keywords=K%C3%BCchenlampe&qid=1664353635&qu=eyJxc2MiOiI4LjU4IiwicXNhIjoiOC4yMiIsInFzcCI6IjcuNDQifQ%3D%3D&sr=8-44\n",
      "Created product: Name: Wowatt LED Deckenleuchte Strahler 4 Flammig Deckenstrahler 4x 6W GU10 Spots Schwenkbar Warmweiß 2800K Deckenlampe 230V Flu..., Image: https://m.media-amazon.com/images/I/71qHEd068tL._AC_UL320_.jpg, Stars: 4,7 von 5 Sternen, Ratings: Wowatt LED Deckenleuchte Strahler 4 Flammig Deckenstrahler 4x 6W GU10 Spots Schwenkbar Warmweiß 2800K Deckenlampe 230V Flur Küchenlampe Esszimmer Verstellbar Modern Spotleuchten Spotbalken Matt Nickel, price: 32,99 €, URL: https://www.amazon.de/Deckenleuchte-Deckenstrahler-K%C3%BCchenlampe-Deckenlampe-Spotleuchte/dp/B07FS6WPFG/ref=sr_1_45?keywords=K%C3%BCchenlampe&qid=1664353635&qu=eyJxc2MiOiI4LjU4IiwicXNhIjoiOC4yMiIsInFzcCI6IjcuNDQifQ%3D%3D&sr=8-45\n",
      "Created product: Name: LED Deckenleuchte Dimmbar Dexnump Deckenlampe LED 24W 2400LM Badezimmer Lampe mit Fernbedienung 2700K-6500K IP44 Ø30CM Wei..., Image: https://m.media-amazon.com/images/I/61Has22XsfL._AC_UL320_.jpg, Stars: 5,0 von 5 Sternen, Ratings: LED Deckenleuchte Dimmbar Dexnump Deckenlampe LED 24W 2400LM Badezimmer Lampe mit Fernbedienung 2700K-6500K IP44 Ø30CM Weiß für Schlafzimmer Wohnzimmer Kinderzimmer Flur Küche Keller, price: 23,56 €, URL: https://www.amazon.de/Deckenleuchte-Dexnump-Fernbedienung-Schlafzimmer-Kinderzimmer/dp/B0B3J3H4ZJ/ref=sr_1_46?keywords=K%C3%BCchenlampe&qid=1664353635&qu=eyJxc2MiOiI4LjU4IiwicXNhIjoiOC4yMiIsInFzcCI6IjcuNDQifQ%3D%3D&sr=8-46\n",
      "Created product: Name: EGLO Deckenlampe Wilmcote, 3 flammige Deckenleuchte Industrial, Vintage, Retro aus Stahl, Wohnzimmerlampe in Schwarz, Küch..., Image: https://m.media-amazon.com/images/I/71nfpCqtJsL._AC_UL320_.jpg, Stars: 4,3 von 5 Sternen, Ratings: EGLO Deckenlampe Wilmcote, 3 flammige Deckenleuchte Industrial, Vintage, Retro aus Stahl, Wohnzimmerlampe in Schwarz, Küchenlampe, Flurlampe Decke mit E27 Fassung, price: 45,50 €, URL: https://www.amazon.de/Deckenleuchte-WILMCOTE-schwarz-%C3%9828cm-38cm/dp/B07VBVNBZC/ref=sr_1_47?keywords=K%C3%BCchenlampe&qid=1664353635&qu=eyJxc2MiOiI4LjU4IiwicXNhIjoiOC4yMiIsInFzcCI6IjcuNDQifQ%3D%3D&sr=8-47\n",
      "Created product: Name: B.K.Licht I 4-flammige geschwungene 20W Deckenleuchte I Deckenlampe I schwenkbar I warmweiße Lichtfarbe 3000K I Weiß I 220..., Image: https://m.media-amazon.com/images/I/51AVVOyCOjS._AC_UL320_.jpg, Stars: 4,4 von 5 Sternen, Ratings: B.K.Licht I 4-flammige geschwungene 20W Deckenleuchte I Deckenlampe I schwenkbar I warmweiße Lichtfarbe 3000K I Weiß I 2200 Lumen, price: 39,99 €, URL: https://www.amazon.de/B-K-Licht-4-flammige-geschwungene-Deckenleuchte-Deckenlampe/dp/B098NMB21G/ref=sr_1_48?keywords=K%C3%BCchenlampe&qid=1664353635&qu=eyJxc2MiOiI4LjU4IiwicXNhIjoiOC4yMiIsInFzcCI6IjcuNDQifQ%3D%3D&sr=8-48\n"
     ]
    }
   ],
   "source": [
    "results = search(\"Küchenlampe\")\n",
    "# print(results[0], results[1], results[2])\n",
    "# product = create_product(results[0])\n",
    "# print(\"product:\", product)\n",
    "products = list(map(create_product, results))\n",
    "# print(products[0], products[1], products[2])"
   ]
  },
  {
   "cell_type": "code",
   "execution_count": 52,
   "metadata": {},
   "outputs": [
    {
     "name": "stdout",
     "output_type": "stream",
     "text": [
      "Name: Deckenlampe LED Deckenleuchte 36W, SUNZOS 4000K 4250LM Deckenlampe Led Panel für Lampe Wohnzimmer, Schlafzimmer, Küchenlam..., Image: https://m.media-amazon.com/images/I/51oDrHMPqCS._AC_UL320_.jpg, Stars: 4,5 von 5 Sternen, Ratings: Deckenlampe LED Deckenleuchte 36W, SUNZOS 4000K 4250LM Deckenlampe Led Panel für Lampe Wohnzimmer, Schlafzimmer, Küchenlampe, Flur, Balkon, Esszimmer, Neutralweiß Deckenleuchte Led / 23 x 4 cm, price: 22,99 €, URL: https://www.amazon.de/Deckenleuchte-SUNZOS-Deckenlampe-Schlafzimmer-Neutralwei%C3%9F/dp/B0872LYB9S/ref=sr_1_1?keywords=K%C3%BCchenlampe&qid=1664353635&qu=eyJxc2MiOiI4LjU4IiwicXNhIjoiOC4yMiIsInFzcCI6IjcuNDQifQ%3D%3D&sr=8-1\n"
     ]
    }
   ],
   "source": [
    "print(products[0])"
   ]
  },
  {
   "cell_type": "code",
   "execution_count": null,
   "metadata": {},
   "outputs": [],
   "source": [
    "rating = item.i.text\n",
    "review_count = item.find('span', {'class': 'a-size-base'}).text\n"
   ]
  },
  {
   "cell_type": "code",
   "execution_count": null,
   "metadata": {},
   "outputs": [],
   "source": [
    "## Generalize the Patern"
   ]
  },
  {
   "cell_type": "code",
   "execution_count": null,
   "metadata": {},
   "outputs": [],
   "source": [
    "def extract_record(item):\n",
    "    \"\"\"Extract and return data from a single record\"\"\"\n",
    "    \n",
    "    # description and url\n",
    "    atag = item.h2.a\n",
    "    description = atag.text.strip()\n",
    "    url = \"https://www.amazon.de\" + atag.get('href')\n",
    "\n",
    "    try:\n",
    "        # price\n",
    "        price_parent = item.find('span', 'a-price')\n",
    "        price = price_parent.find('span', 'a-offscreen').text\n",
    "    except AttributeError:\n",
    "        return\n",
    "    \n",
    "    try:\n",
    "        # rating and review count\n",
    "        rating = item.i.text\n",
    "        review_count = item.find('span', {'class': 'a-size-base'}).text\n",
    "    except AttributeError:\n",
    "        rating = \"\"\n",
    "        review_count = \"\"\n",
    "        return\n",
    "    \n",
    "    result = (description, price, rating, review_count, url)\n",
    "    \n",
    "    return result\n"
   ]
  },
  {
   "cell_type": "code",
   "execution_count": null,
   "metadata": {},
   "outputs": [],
   "source": [
    "records = []\n",
    "results = soup.find_all('div', {'data-component-type':'s-search-result'})\n",
    "\n",
    "for item in results:\n",
    "    record = extract_record(item)\n",
    "    if record:\n",
    "        records.append(record)"
   ]
  },
  {
   "cell_type": "code",
   "execution_count": null,
   "metadata": {},
   "outputs": [],
   "source": [
    "print(len(records))"
   ]
  },
  {
   "cell_type": "code",
   "execution_count": null,
   "metadata": {},
   "outputs": [],
   "source": [
    "for record in records:\n",
    "    print(record[1])"
   ]
  },
  {
   "cell_type": "code",
   "execution_count": null,
   "metadata": {},
   "outputs": [],
   "source": [
    "## Getting to next page"
   ]
  },
  {
   "cell_type": "code",
   "execution_count": null,
   "metadata": {},
   "outputs": [],
   "source": []
  }
 ],
 "metadata": {
  "kernelspec": {
   "display_name": "Python 3.9.13 ('tasa')",
   "language": "python",
   "name": "python3"
  },
  "language_info": {
   "codemirror_mode": {
    "name": "ipython",
    "version": 3
   },
   "file_extension": ".py",
   "mimetype": "text/x-python",
   "name": "python",
   "nbconvert_exporter": "python",
   "pygments_lexer": "ipython3",
   "version": "3.9.13"
  },
  "orig_nbformat": 4,
  "vscode": {
   "interpreter": {
    "hash": "1097c92bec9d254a2c435ea8a600233d91c85a3221402a03ebb032b4f6f7fad8"
   }
  }
 },
 "nbformat": 4,
 "nbformat_minor": 2
}
